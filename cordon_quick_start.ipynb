{
 "cells": [
  {
   "cell_type": "markdown",
   "id": "df955d1e",
   "metadata": {},
   "source": [
    "# OSCordon Quick Start"
   ]
  },
  {
   "cell_type": "code",
   "execution_count": 1,
   "id": "022f9013",
   "metadata": {},
   "outputs": [],
   "source": [
    "from lonboard import Map, PathLayer, PolygonLayer\n",
    "\n",
    "from OSCordon.os_object import OSObject"
   ]
  },
  {
   "cell_type": "markdown",
   "id": "fr3333v1dun",
   "metadata": {},
   "source": [
    "## Example 1: Single Street with Bounding Box\n",
    "\n",
    "This example shows how to:\n",
    "\n",
    "1. Get data for one street using its USRN\n",
    "2. Create a bound box around it \n",
    "3. Display both the street line and bounding box on a map"
   ]
  },
  {
   "cell_type": "code",
   "execution_count": 2,
   "id": "250d4261",
   "metadata": {},
   "outputs": [
    {
     "name": "stderr",
     "output_type": "stream",
     "text": [
      "\u001b[32m2025-09-24 23:20:04.165\u001b[0m | \u001b[32m\u001b[1mSUCCESS \u001b[0m | \u001b[36mOSCordon.os_object\u001b[0m:\u001b[36m_get_single_feature\u001b[0m:\u001b[36m119\u001b[0m - \u001b[32m\u001b[1mUSRN Data Found\u001b[0m\n",
      "\u001b[32m2025-09-24 23:20:04.167\u001b[0m | \u001b[32m\u001b[1mSUCCESS \u001b[0m | \u001b[36mOSCordon.os_object\u001b[0m:\u001b[36mcreate_buffer\u001b[0m:\u001b[36m344\u001b[0m - \u001b[32m\u001b[1mSimple Tuple Bounding Box Created Successfully (cap: round, join: round)\u001b[0m\n",
      "\u001b[32m2025-09-24 23:20:04.193\u001b[0m | \u001b[32m\u001b[1mSUCCESS \u001b[0m | \u001b[36mOSCordon.os_object\u001b[0m:\u001b[36mconvert_to_wgs84\u001b[0m:\u001b[36m217\u001b[0m - \u001b[32m\u001b[1mConverted 2 geometries to WGS84\u001b[0m\n",
      "\u001b[32m2025-09-24 23:20:04.194\u001b[0m | \u001b[34m\u001b[1mDEBUG   \u001b[0m | \u001b[36mOSCordon.os_object\u001b[0m:\u001b[36mconvert_to_wgs84\u001b[0m:\u001b[36m218\u001b[0m - \u001b[34m\u001b[1m       type      usrn street_name  \\\n",
      "0      usrn  23009365        None   \n",
      "1  boundary  23009365        None   \n",
      "\n",
      "                                            geometry  \n",
      "0  MULTILINESTRING ((-1.54705 53.79614, -1.54706 ...  \n",
      "1  POLYGON ((-1.54689 53.79605, -1.54685 53.79964...  \u001b[0m\n"
     ]
    },
    {
     "data": {
      "application/vnd.jupyter.widget-view+json": {
       "model_id": "a67aa14d356947eaaad834882439497d",
       "version_major": 2,
       "version_minor": 1
      },
      "text/plain": [
       "Map(custom_attribution='', layers=(PathLayer(get_color=[0, 0, 255], table=arro3.core.Table\n",
       "+------+----------+…"
      ]
     },
     "execution_count": 2,
     "metadata": {},
     "output_type": "execute_result"
    }
   ],
   "source": [
    "# Simple Bounding Box and Single USRN\n",
    "os_obj = OSObject()\n",
    "usrn = \"23009365\"\n",
    "street_data = os_obj.get_street_data(usrn)\n",
    "\n",
    "bounds = os_obj.create_buffer(street_data, buffer_distance=10, return_geometry=False)\n",
    "\n",
    "# Convert to WGS84 and return GeoDataFrame\n",
    "# This has to be specified when working with just 1 USRN if you want the map to show\n",
    "gdf = os_obj.convert_to_wgs84(street_data, bbox=bounds)\n",
    "\n",
    "# Create layers for the USRN line and buffer geom\n",
    "usrn_layer = PathLayer.from_geopandas(\n",
    "    gdf[gdf[\"type\"] == \"usrn\"], get_color=[0, 0, 255], width_min_pixels=3\n",
    ")\n",
    "\n",
    "boundary_layer = PolygonLayer.from_geopandas(\n",
    "    gdf[gdf[\"type\"] == \"boundary\"],\n",
    "    get_fill_color=[255, 165, 0, 100],\n",
    "    get_line_color=[255, 165, 0],\n",
    "    line_width_min_pixels=2,\n",
    ")\n",
    "\n",
    "# Simple Bounding Box\n",
    "Map(layers=[usrn_layer, boundary_layer])"
   ]
  },
  {
   "cell_type": "markdown",
   "id": "rzsnq16l32b",
   "metadata": {},
   "source": [
    "## Example 2: Getting the Buffer Geometry\n",
    "\n",
    "This shows how to get the actual buffer shape (polygon) instead of just the bounding box coordinates. \n",
    "\n",
    "This is useful when you need a precise buffer area for analysis.\n",
    "\n",
    "Notice that `return_geometry` is set as True for this."
   ]
  },
  {
   "cell_type": "code",
   "execution_count": 3,
   "id": "045962ba",
   "metadata": {},
   "outputs": [
    {
     "name": "stderr",
     "output_type": "stream",
     "text": [
      "\u001b[32m2025-09-24 23:20:15.140\u001b[0m | \u001b[32m\u001b[1mSUCCESS \u001b[0m | \u001b[36mOSCordon.os_object\u001b[0m:\u001b[36mcreate_buffer\u001b[0m:\u001b[36m340\u001b[0m - \u001b[32m\u001b[1mComplex Boundary Geometry Created Successfully\u001b[0m\n",
      "\u001b[32m2025-09-24 23:20:15.143\u001b[0m | \u001b[32m\u001b[1mSUCCESS \u001b[0m | \u001b[36mOSCordon.os_object\u001b[0m:\u001b[36mconvert_to_wgs84\u001b[0m:\u001b[36m217\u001b[0m - \u001b[32m\u001b[1mConverted 2 geometries to WGS84\u001b[0m\n",
      "\u001b[32m2025-09-24 23:20:15.143\u001b[0m | \u001b[34m\u001b[1mDEBUG   \u001b[0m | \u001b[36mOSCordon.os_object\u001b[0m:\u001b[36mconvert_to_wgs84\u001b[0m:\u001b[36m218\u001b[0m - \u001b[34m\u001b[1m       type      usrn street_name  \\\n",
      "0      usrn  23009365        None   \n",
      "1  boundary  23009365        None   \n",
      "\n",
      "                                            geometry  \n",
      "0  MULTILINESTRING ((-1.54705 53.79614, -1.54706 ...  \n",
      "1  POLYGON ((-1.54719 53.79611, -1.54719 53.79611...  \u001b[0m\n"
     ]
    },
    {
     "data": {
      "application/vnd.jupyter.widget-view+json": {
       "model_id": "49a0582e442d493d8a84dbc1b08f9f4f",
       "version_major": 2,
       "version_minor": 1
      },
      "text/plain": [
       "Map(custom_attribution='', layers=(PathLayer(get_color=[0, 0, 255], table=arro3.core.Table\n",
       "+------+----------+…"
      ]
     },
     "execution_count": 3,
     "metadata": {},
     "output_type": "execute_result"
    }
   ],
   "source": [
    "buffer = os_obj.create_buffer(street_data, buffer_distance=10, return_geometry=True)\n",
    "gdf = os_obj.convert_to_wgs84(street_data, bbox=buffer)\n",
    "\n",
    "buffer_layer = PolygonLayer.from_geopandas(\n",
    "    gdf[gdf[\"type\"] == \"boundary\"],\n",
    "    get_fill_color=[255, 165, 0, 100],\n",
    "    get_line_color=[255, 165, 0],\n",
    "    line_width_min_pixels=2,\n",
    ")\n",
    "\n",
    "Map(layers=[usrn_layer, buffer_layer])"
   ]
  },
  {
   "cell_type": "markdown",
   "id": "86269130",
   "metadata": {},
   "source": [
    "## Example 3: Multiple Streets with Bounding Box\n",
    "\n",
    "This example shows how to:\n",
    "\n",
    "1. Work with multiple streets at once using a list of USRNs\n",
    "2. Get a simple bounding box that covers all the streets\n",
    "3. Display the streets and their overall boundary area\n",
    "\n",
    "As a reminder, `return_geometry=False` gives you just the roads and a simple rectangle around them, which is good for getting a simple overview of an error or if you need to pass a bbox as a query param to another endpoint."
   ]
  },
  {
   "cell_type": "code",
   "execution_count": 4,
   "id": "593abae4",
   "metadata": {},
   "outputs": [
    {
     "name": "stderr",
     "output_type": "stream",
     "text": [
      "\u001b[32m2025-09-24 23:20:23.683\u001b[0m | \u001b[32m\u001b[1mSUCCESS \u001b[0m | \u001b[36mOSCordon.os_object\u001b[0m:\u001b[36m_get_single_feature\u001b[0m:\u001b[36m119\u001b[0m - \u001b[32m\u001b[1mUSRN Data Found\u001b[0m\n",
      "\u001b[32m2025-09-24 23:20:23.684\u001b[0m | \u001b[1mINFO    \u001b[0m | \u001b[36mOSCordon.os_object\u001b[0m:\u001b[36mget_multiple_streets\u001b[0m:\u001b[36m242\u001b[0m - \u001b[1mRetrieved USRN 23012292\u001b[0m\n",
      "\u001b[32m2025-09-24 23:20:23.889\u001b[0m | \u001b[32m\u001b[1mSUCCESS \u001b[0m | \u001b[36mOSCordon.os_object\u001b[0m:\u001b[36m_get_single_feature\u001b[0m:\u001b[36m119\u001b[0m - \u001b[32m\u001b[1mUSRN Data Found\u001b[0m\n",
      "\u001b[32m2025-09-24 23:20:23.890\u001b[0m | \u001b[1mINFO    \u001b[0m | \u001b[36mOSCordon.os_object\u001b[0m:\u001b[36mget_multiple_streets\u001b[0m:\u001b[36m242\u001b[0m - \u001b[1mRetrieved USRN 23001950\u001b[0m\n",
      "\u001b[32m2025-09-24 23:20:24.079\u001b[0m | \u001b[32m\u001b[1mSUCCESS \u001b[0m | \u001b[36mOSCordon.os_object\u001b[0m:\u001b[36m_get_single_feature\u001b[0m:\u001b[36m119\u001b[0m - \u001b[32m\u001b[1mUSRN Data Found\u001b[0m\n",
      "\u001b[32m2025-09-24 23:20:24.079\u001b[0m | \u001b[1mINFO    \u001b[0m | \u001b[36mOSCordon.os_object\u001b[0m:\u001b[36mget_multiple_streets\u001b[0m:\u001b[36m242\u001b[0m - \u001b[1mRetrieved USRN 23002521\u001b[0m\n",
      "\u001b[32m2025-09-24 23:20:24.080\u001b[0m | \u001b[32m\u001b[1mSUCCESS \u001b[0m | \u001b[36mOSCordon.os_object\u001b[0m:\u001b[36mget_multiple_streets\u001b[0m:\u001b[36m250\u001b[0m - \u001b[32m\u001b[1mRetrieved 3 of 3 USRNs\u001b[0m\n",
      "\u001b[32m2025-09-24 23:20:24.081\u001b[0m | \u001b[32m\u001b[1mSUCCESS \u001b[0m | \u001b[36mOSCordon.os_object\u001b[0m:\u001b[36mcreate_buffer\u001b[0m:\u001b[36m340\u001b[0m - \u001b[32m\u001b[1mComplex Boundary Geometry Created Successfully\u001b[0m\n",
      "\u001b[32m2025-09-24 23:20:24.082\u001b[0m | \u001b[32m\u001b[1mSUCCESS \u001b[0m | \u001b[36mOSCordon.os_object\u001b[0m:\u001b[36mcreate_buffer\u001b[0m:\u001b[36m340\u001b[0m - \u001b[32m\u001b[1mComplex Boundary Geometry Created Successfully\u001b[0m\n",
      "\u001b[32m2025-09-24 23:20:24.083\u001b[0m | \u001b[32m\u001b[1mSUCCESS \u001b[0m | \u001b[36mOSCordon.os_object\u001b[0m:\u001b[36mcreate_buffer\u001b[0m:\u001b[36m340\u001b[0m - \u001b[32m\u001b[1mComplex Boundary Geometry Created Successfully\u001b[0m\n",
      "\u001b[32m2025-09-24 23:20:24.086\u001b[0m | \u001b[32m\u001b[1mSUCCESS \u001b[0m | \u001b[36mOSCordon.os_object\u001b[0m:\u001b[36m_create_ful_route_bbox_only\u001b[0m:\u001b[36m611\u001b[0m - \u001b[32m\u001b[1mCreated connected route with bounds and 3 USRNs\u001b[0m\n",
      "\u001b[32m2025-09-24 23:20:24.087\u001b[0m | \u001b[34m\u001b[1mDEBUG   \u001b[0m | \u001b[36mOSCordon.os_object\u001b[0m:\u001b[36m_create_ful_route_bbox_only\u001b[0m:\u001b[36m614\u001b[0m - \u001b[34m\u001b[1m           type      usrn         street_name  route_order  \\\n",
      "0          usrn  23012292                None            0   \n",
      "1          usrn  23001950                None            1   \n",
      "2          usrn  23002521                None            2   \n",
      "3  route_bounds       all  Route Bounding Box           -1   \n",
      "\n",
      "                                            geometry  \n",
      "0  MULTILINESTRING ((-1.62272 53.80563, -1.62303 ...  \n",
      "1  MULTILINESTRING ((-1.63129 53.81338, -1.63114 ...  \n",
      "2  MULTILINESTRING ((-1.65093 53.80979, -1.65003 ...  \n",
      "3  POLYGON ((-1.60761 53.80531, -1.60751 53.81665...  \u001b[0m\n"
     ]
    },
    {
     "data": {
      "application/vnd.jupyter.widget-view+json": {
       "model_id": "7da68f01720247cebcf8f5bfe6a3a9b8",
       "version_major": 2,
       "version_minor": 1
      },
      "text/plain": [
       "Map(custom_attribution='', layers=(PathLayer(get_color=[0, 0, 255], table=arro3.core.Table\n",
       "+------+----------+…"
      ]
     },
     "execution_count": 4,
     "metadata": {},
     "output_type": "execute_result"
    }
   ],
   "source": [
    "# Single USRN\n",
    "usrn_list = [\"23012292\", \"23001950\", \"23002521\"]\n",
    "\n",
    "# Specify config\n",
    "config = {\n",
    "    \"cap_style\": \"round\",\n",
    "    \"join_style\": \"round\",\n",
    "    \"resolution\": 16,\n",
    "}\n",
    "\n",
    "gdf = os_obj.create_connected_route(\n",
    "    usrn_list, buffer_distance=30, buffer_config=config, return_geometry=False\n",
    ")\n",
    "\n",
    "roads = gdf[gdf[\"type\"] == \"usrn\"]\n",
    "boundary = gdf[gdf[\"type\"] == \"route_bounds\"]\n",
    "\n",
    "# Create layers\n",
    "road_layer = PathLayer.from_geopandas(\n",
    "    roads,\n",
    "    get_color=[0, 0, 255],\n",
    "    width_min_pixels=3,\n",
    ")\n",
    "\n",
    "boundary_layer = PolygonLayer.from_geopandas(\n",
    "    boundary,\n",
    "    get_fill_color=[255, 165, 0, 100],\n",
    "    get_line_color=[255, 165, 0],\n",
    "    line_width_min_pixels=2,\n",
    ")\n",
    "\n",
    "# Display map\n",
    "m = Map(layers=[road_layer, boundary_layer])\n",
    "m"
   ]
  },
  {
   "cell_type": "markdown",
   "id": "vesh3flaa6",
   "metadata": {},
   "source": [
    "## Example 4: Multiple Streets with Detailed Buffers\n",
    "\n",
    "This is the same as above, but with `return_geometry=True` to get:\n",
    "1. Detailed buffer zones that follow the shape of each street\n",
    "2. A merged buffer area that covers the entire route\n",
    "\n",
    "This gives you more precise coverage areas."
   ]
  },
  {
   "cell_type": "code",
   "execution_count": 5,
   "id": "c6badff1",
   "metadata": {},
   "outputs": [
    {
     "name": "stderr",
     "output_type": "stream",
     "text": [
      "\u001b[32m2025-09-24 23:20:29.656\u001b[0m | \u001b[32m\u001b[1mSUCCESS \u001b[0m | \u001b[36mOSCordon.os_object\u001b[0m:\u001b[36m_get_single_feature\u001b[0m:\u001b[36m119\u001b[0m - \u001b[32m\u001b[1mUSRN Data Found\u001b[0m\n",
      "\u001b[32m2025-09-24 23:20:29.657\u001b[0m | \u001b[1mINFO    \u001b[0m | \u001b[36mOSCordon.os_object\u001b[0m:\u001b[36mget_multiple_streets\u001b[0m:\u001b[36m242\u001b[0m - \u001b[1mRetrieved USRN 23012292\u001b[0m\n",
      "\u001b[32m2025-09-24 23:20:29.777\u001b[0m | \u001b[32m\u001b[1mSUCCESS \u001b[0m | \u001b[36mOSCordon.os_object\u001b[0m:\u001b[36m_get_single_feature\u001b[0m:\u001b[36m119\u001b[0m - \u001b[32m\u001b[1mUSRN Data Found\u001b[0m\n",
      "\u001b[32m2025-09-24 23:20:29.777\u001b[0m | \u001b[1mINFO    \u001b[0m | \u001b[36mOSCordon.os_object\u001b[0m:\u001b[36mget_multiple_streets\u001b[0m:\u001b[36m242\u001b[0m - \u001b[1mRetrieved USRN 23001950\u001b[0m\n",
      "\u001b[32m2025-09-24 23:20:29.978\u001b[0m | \u001b[32m\u001b[1mSUCCESS \u001b[0m | \u001b[36mOSCordon.os_object\u001b[0m:\u001b[36m_get_single_feature\u001b[0m:\u001b[36m119\u001b[0m - \u001b[32m\u001b[1mUSRN Data Found\u001b[0m\n",
      "\u001b[32m2025-09-24 23:20:29.979\u001b[0m | \u001b[1mINFO    \u001b[0m | \u001b[36mOSCordon.os_object\u001b[0m:\u001b[36mget_multiple_streets\u001b[0m:\u001b[36m242\u001b[0m - \u001b[1mRetrieved USRN 23002521\u001b[0m\n",
      "\u001b[32m2025-09-24 23:20:29.980\u001b[0m | \u001b[32m\u001b[1mSUCCESS \u001b[0m | \u001b[36mOSCordon.os_object\u001b[0m:\u001b[36mget_multiple_streets\u001b[0m:\u001b[36m250\u001b[0m - \u001b[32m\u001b[1mRetrieved 3 of 3 USRNs\u001b[0m\n",
      "\u001b[32m2025-09-24 23:20:29.982\u001b[0m | \u001b[32m\u001b[1mSUCCESS \u001b[0m | \u001b[36mOSCordon.os_object\u001b[0m:\u001b[36mcreate_buffer\u001b[0m:\u001b[36m340\u001b[0m - \u001b[32m\u001b[1mComplex Boundary Geometry Created Successfully\u001b[0m\n",
      "\u001b[32m2025-09-24 23:20:29.982\u001b[0m | \u001b[32m\u001b[1mSUCCESS \u001b[0m | \u001b[36mOSCordon.os_object\u001b[0m:\u001b[36mcreate_buffer\u001b[0m:\u001b[36m340\u001b[0m - \u001b[32m\u001b[1mComplex Boundary Geometry Created Successfully\u001b[0m\n",
      "\u001b[32m2025-09-24 23:20:29.984\u001b[0m | \u001b[32m\u001b[1mSUCCESS \u001b[0m | \u001b[36mOSCordon.os_object\u001b[0m:\u001b[36mcreate_buffer\u001b[0m:\u001b[36m340\u001b[0m - \u001b[32m\u001b[1mComplex Boundary Geometry Created Successfully\u001b[0m\n",
      "\u001b[32m2025-09-24 23:20:29.987\u001b[0m | \u001b[32m\u001b[1mSUCCESS \u001b[0m | \u001b[36mOSCordon.os_object\u001b[0m:\u001b[36m_create_full_route_connected\u001b[0m:\u001b[36m697\u001b[0m - \u001b[32m\u001b[1mCreated connected route GeoDataFrame with 3 USRNs\u001b[0m\n",
      "\u001b[32m2025-09-24 23:20:29.987\u001b[0m | \u001b[34m\u001b[1mDEBUG   \u001b[0m | \u001b[36mOSCordon.os_object\u001b[0m:\u001b[36m_create_full_route_connected\u001b[0m:\u001b[36m700\u001b[0m - \u001b[34m\u001b[1m           type      usrn        street_name  route_order  \\\n",
      "0          usrn  23012292               None            0   \n",
      "1          usrn  23001950               None            1   \n",
      "2          usrn  23002521               None            2   \n",
      "3  route_buffer    merged  Full Route Buffer           -1   \n",
      "\n",
      "                                            geometry  \n",
      "0  MULTILINESTRING ((-1.62272 53.80563, -1.62303 ...  \n",
      "1  MULTILINESTRING ((-1.63129 53.81338, -1.63114 ...  \n",
      "2  MULTILINESTRING ((-1.65093 53.80979, -1.65003 ...  \n",
      "3  POLYGON ((-1.63403 53.81421, -1.63406 53.81423...  \u001b[0m\n"
     ]
    },
    {
     "data": {
      "application/vnd.jupyter.widget-view+json": {
       "model_id": "45776c85946341dc80e1da4e688c2235",
       "version_major": 2,
       "version_minor": 1
      },
      "text/plain": [
       "Map(custom_attribution='', layers=(PathLayer(get_color=[0, 0, 255], table=arro3.core.Table\n",
       "+------+----------+…"
      ]
     },
     "execution_count": 5,
     "metadata": {},
     "output_type": "execute_result"
    }
   ],
   "source": [
    "# Single USRN\n",
    "usrn_list = [\"23012292\", \"23001950\", \"23002521\"]\n",
    "\n",
    "# Specify config\n",
    "config = {\n",
    "    \"cap_style\": \"round\",\n",
    "    \"join_style\": \"round\",\n",
    "    \"resolution\": 16,\n",
    "}\n",
    "\n",
    "gdf = os_obj.create_connected_route(\n",
    "    usrn_list,\n",
    "    buffer_distance=30,\n",
    "    buffer_config=config,\n",
    "    merge_buffers=True,\n",
    "    return_geometry=True,\n",
    ")\n",
    "\n",
    "roads = gdf[gdf[\"type\"] == \"usrn\"]\n",
    "boundary = gdf[gdf[\"type\"] == \"route_buffer\"]\n",
    "\n",
    "# Create layers\n",
    "road_layer = PathLayer.from_geopandas(\n",
    "    roads,\n",
    "    get_color=[0, 0, 255],\n",
    "    width_min_pixels=3,\n",
    ")\n",
    "\n",
    "boundary_layer = PolygonLayer.from_geopandas(\n",
    "    boundary,\n",
    "    get_fill_color=[255, 165, 0, 100],\n",
    "    get_line_color=[255, 165, 0],\n",
    "    line_width_min_pixels=2,\n",
    ")\n",
    "\n",
    "# Display map\n",
    "m = Map(layers=[road_layer, boundary_layer])\n",
    "m"
   ]
  },
  {
   "cell_type": "markdown",
   "id": "8srmli629on",
   "metadata": {},
   "source": [
    "## Example 5: Bounding Box for Dispersed Streets\n",
    "\n",
    "This shows `create_proximity()` with `return_geometry=False` using streets that are close but not directly connected:\n",
    "- Returns roads + single bounding box rectangle that encompasses all streets\n",
    "- Shows how the bounding box covers the entire area even when streets are scattered\n",
    "- Useful for getting the overall extent of multiple non-connected streets"
   ]
  },
  {
   "cell_type": "code",
   "execution_count": 6,
   "id": "5kqqe8d3cx",
   "metadata": {},
   "outputs": [
    {
     "name": "stderr",
     "output_type": "stream",
     "text": [
      "\u001b[32m2025-09-24 23:20:37.111\u001b[0m | \u001b[32m\u001b[1mSUCCESS \u001b[0m | \u001b[36mOSCordon.os_object\u001b[0m:\u001b[36m_get_single_feature\u001b[0m:\u001b[36m119\u001b[0m - \u001b[32m\u001b[1mUSRN Data Found\u001b[0m\n",
      "\u001b[32m2025-09-24 23:20:37.112\u001b[0m | \u001b[1mINFO    \u001b[0m | \u001b[36mOSCordon.os_object\u001b[0m:\u001b[36mget_multiple_streets\u001b[0m:\u001b[36m242\u001b[0m - \u001b[1mRetrieved USRN 23001950\u001b[0m\n",
      "\u001b[32m2025-09-24 23:20:37.263\u001b[0m | \u001b[32m\u001b[1mSUCCESS \u001b[0m | \u001b[36mOSCordon.os_object\u001b[0m:\u001b[36m_get_single_feature\u001b[0m:\u001b[36m119\u001b[0m - \u001b[32m\u001b[1mUSRN Data Found\u001b[0m\n",
      "\u001b[32m2025-09-24 23:20:37.264\u001b[0m | \u001b[1mINFO    \u001b[0m | \u001b[36mOSCordon.os_object\u001b[0m:\u001b[36mget_multiple_streets\u001b[0m:\u001b[36m242\u001b[0m - \u001b[1mRetrieved USRN 23032833\u001b[0m\n",
      "\u001b[32m2025-09-24 23:20:37.453\u001b[0m | \u001b[32m\u001b[1mSUCCESS \u001b[0m | \u001b[36mOSCordon.os_object\u001b[0m:\u001b[36m_get_single_feature\u001b[0m:\u001b[36m119\u001b[0m - \u001b[32m\u001b[1mUSRN Data Found\u001b[0m\n",
      "\u001b[32m2025-09-24 23:20:37.454\u001b[0m | \u001b[1mINFO    \u001b[0m | \u001b[36mOSCordon.os_object\u001b[0m:\u001b[36mget_multiple_streets\u001b[0m:\u001b[36m242\u001b[0m - \u001b[1mRetrieved USRN 23013026\u001b[0m\n",
      "\u001b[32m2025-09-24 23:20:37.454\u001b[0m | \u001b[32m\u001b[1mSUCCESS \u001b[0m | \u001b[36mOSCordon.os_object\u001b[0m:\u001b[36mget_multiple_streets\u001b[0m:\u001b[36m250\u001b[0m - \u001b[32m\u001b[1mRetrieved 3 of 3 USRNs\u001b[0m\n",
      "\u001b[32m2025-09-24 23:20:37.455\u001b[0m | \u001b[32m\u001b[1mSUCCESS \u001b[0m | \u001b[36mOSCordon.os_object\u001b[0m:\u001b[36mcreate_buffer\u001b[0m:\u001b[36m340\u001b[0m - \u001b[32m\u001b[1mComplex Boundary Geometry Created Successfully\u001b[0m\n",
      "\u001b[32m2025-09-24 23:20:37.456\u001b[0m | \u001b[32m\u001b[1mSUCCESS \u001b[0m | \u001b[36mOSCordon.os_object\u001b[0m:\u001b[36mcreate_buffer\u001b[0m:\u001b[36m340\u001b[0m - \u001b[32m\u001b[1mComplex Boundary Geometry Created Successfully\u001b[0m\n",
      "\u001b[32m2025-09-24 23:20:37.456\u001b[0m | \u001b[32m\u001b[1mSUCCESS \u001b[0m | \u001b[36mOSCordon.os_object\u001b[0m:\u001b[36mcreate_buffer\u001b[0m:\u001b[36m340\u001b[0m - \u001b[32m\u001b[1mComplex Boundary Geometry Created Successfully\u001b[0m\n",
      "\u001b[32m2025-09-24 23:20:37.459\u001b[0m | \u001b[32m\u001b[1mSUCCESS \u001b[0m | \u001b[36mOSCordon.os_object\u001b[0m:\u001b[36m_create_proximity_bbox_only\u001b[0m:\u001b[36m420\u001b[0m - \u001b[32m\u001b[1mCreated proximity route with bounds and 3 USRNs\u001b[0m\n",
      "\u001b[32m2025-09-24 23:20:37.460\u001b[0m | \u001b[34m\u001b[1mDEBUG   \u001b[0m | \u001b[36mOSCordon.os_object\u001b[0m:\u001b[36m_create_proximity_bbox_only\u001b[0m:\u001b[36m423\u001b[0m - \u001b[34m\u001b[1m           type      usrn         street_name  route_order geometry_type  \\\n",
      "0          usrn  23001950                None            0          line   \n",
      "1          usrn  23032833                None            1          line   \n",
      "2          usrn  23013026                None            2          line   \n",
      "3  route_bounds       all  Route Bounding Box           -1           NaN   \n",
      "\n",
      "                                            geometry  \n",
      "0  MULTILINESTRING ((-1.63129 53.81338, -1.63114 ...  \n",
      "1  MULTILINESTRING ((-1.63289 53.81484, -1.63309 ...  \n",
      "2  MULTILINESTRING ((-1.62374 53.81498, -1.62315 ...  \n",
      "3  POLYGON ((-1.62229 53.81308, -1.62226 53.81654...  \u001b[0m\n"
     ]
    },
    {
     "name": "stdout",
     "output_type": "stream",
     "text": [
      "Dispersed streets - Roads: 3, Bounding box: 1\n"
     ]
    },
    {
     "data": {
      "application/vnd.jupyter.widget-view+json": {
       "model_id": "7f79bd45c1a747a9b16d0e608693451e",
       "version_major": 2,
       "version_minor": 1
      },
      "text/plain": [
       "Map(custom_attribution='', layers=(PathLayer(get_color=[0, 0, 255], table=arro3.core.Table\n",
       "+------+----------+…"
      ]
     },
     "execution_count": 6,
     "metadata": {},
     "output_type": "execute_result"
    }
   ],
   "source": [
    "# Different USRNs - streets that are close but not directly connected\n",
    "usrn_list_dispersed = [\"23001950\", \"23032833\", \"23013026\"]\n",
    "\n",
    "# Get simple bounding box (return_geometry=False)\n",
    "gdf_simple = os_obj.create_proximity(\n",
    "    usrn_list_dispersed, buffer_distance=30, buffer_config=config, return_geometry=False\n",
    ")\n",
    "\n",
    "# Split into layers for simple view\n",
    "roads_simple = gdf_simple[gdf_simple[\"type\"] == \"usrn\"]\n",
    "bounding_box = gdf_simple[gdf_simple[\"type\"] == \"route_bounds\"]\n",
    "\n",
    "print(\n",
    "    f\"Dispersed streets - Roads: {len(roads_simple)}, Bounding box: {len(bounding_box)}\"\n",
    ")\n",
    "\n",
    "# Create map with bounding box\n",
    "road_layer_simple = PathLayer.from_geopandas(\n",
    "    roads_simple,\n",
    "    get_color=[0, 0, 255],\n",
    "    width_min_pixels=3,\n",
    ")\n",
    "\n",
    "bbox_layer = PolygonLayer.from_geopandas(\n",
    "    bounding_box,\n",
    "    get_fill_color=[255, 165, 0, 80],\n",
    "    get_line_color=[255, 165, 0],\n",
    "    line_width_min_pixels=2,\n",
    ")\n",
    "\n",
    "# Display map with roads and bounding box\n",
    "m_simple = Map(layers=[road_layer_simple, bbox_layer])\n",
    "m_simple"
   ]
  },
  {
   "cell_type": "markdown",
   "id": "crd2nv8oe0a",
   "metadata": {},
   "source": [
    "## Example 6: Individual Street Buffers\n",
    "\n",
    "This shows `create_proximity()` with `return_geometry=True` using streets that are close but not directly connected:\n",
    "- Returns roads + individual buffer polygons for each street\n",
    "- Shows exact coverage area for each street"
   ]
  },
  {
   "cell_type": "code",
   "execution_count": 7,
   "id": "ef703e41",
   "metadata": {},
   "outputs": [
    {
     "name": "stderr",
     "output_type": "stream",
     "text": [
      "\u001b[32m2025-09-24 23:20:41.270\u001b[0m | \u001b[32m\u001b[1mSUCCESS \u001b[0m | \u001b[36mOSCordon.os_object\u001b[0m:\u001b[36m_get_single_feature\u001b[0m:\u001b[36m119\u001b[0m - \u001b[32m\u001b[1mUSRN Data Found\u001b[0m\n",
      "\u001b[32m2025-09-24 23:20:41.271\u001b[0m | \u001b[1mINFO    \u001b[0m | \u001b[36mOSCordon.os_object\u001b[0m:\u001b[36mget_multiple_streets\u001b[0m:\u001b[36m242\u001b[0m - \u001b[1mRetrieved USRN 23001950\u001b[0m\n",
      "\u001b[32m2025-09-24 23:20:41.453\u001b[0m | \u001b[32m\u001b[1mSUCCESS \u001b[0m | \u001b[36mOSCordon.os_object\u001b[0m:\u001b[36m_get_single_feature\u001b[0m:\u001b[36m119\u001b[0m - \u001b[32m\u001b[1mUSRN Data Found\u001b[0m\n",
      "\u001b[32m2025-09-24 23:20:41.454\u001b[0m | \u001b[1mINFO    \u001b[0m | \u001b[36mOSCordon.os_object\u001b[0m:\u001b[36mget_multiple_streets\u001b[0m:\u001b[36m242\u001b[0m - \u001b[1mRetrieved USRN 23032833\u001b[0m\n",
      "\u001b[32m2025-09-24 23:20:41.652\u001b[0m | \u001b[32m\u001b[1mSUCCESS \u001b[0m | \u001b[36mOSCordon.os_object\u001b[0m:\u001b[36m_get_single_feature\u001b[0m:\u001b[36m119\u001b[0m - \u001b[32m\u001b[1mUSRN Data Found\u001b[0m\n",
      "\u001b[32m2025-09-24 23:20:41.652\u001b[0m | \u001b[1mINFO    \u001b[0m | \u001b[36mOSCordon.os_object\u001b[0m:\u001b[36mget_multiple_streets\u001b[0m:\u001b[36m242\u001b[0m - \u001b[1mRetrieved USRN 23013026\u001b[0m\n",
      "\u001b[32m2025-09-24 23:20:41.652\u001b[0m | \u001b[32m\u001b[1mSUCCESS \u001b[0m | \u001b[36mOSCordon.os_object\u001b[0m:\u001b[36mget_multiple_streets\u001b[0m:\u001b[36m250\u001b[0m - \u001b[32m\u001b[1mRetrieved 3 of 3 USRNs\u001b[0m\n",
      "\u001b[32m2025-09-24 23:20:41.653\u001b[0m | \u001b[32m\u001b[1mSUCCESS \u001b[0m | \u001b[36mOSCordon.os_object\u001b[0m:\u001b[36mcreate_buffer\u001b[0m:\u001b[36m340\u001b[0m - \u001b[32m\u001b[1mComplex Boundary Geometry Created Successfully\u001b[0m\n",
      "\u001b[32m2025-09-24 23:20:41.654\u001b[0m | \u001b[32m\u001b[1mSUCCESS \u001b[0m | \u001b[36mOSCordon.os_object\u001b[0m:\u001b[36mcreate_buffer\u001b[0m:\u001b[36m340\u001b[0m - \u001b[32m\u001b[1mComplex Boundary Geometry Created Successfully\u001b[0m\n",
      "\u001b[32m2025-09-24 23:20:41.655\u001b[0m | \u001b[32m\u001b[1mSUCCESS \u001b[0m | \u001b[36mOSCordon.os_object\u001b[0m:\u001b[36mcreate_buffer\u001b[0m:\u001b[36m340\u001b[0m - \u001b[32m\u001b[1mComplex Boundary Geometry Created Successfully\u001b[0m\n",
      "\u001b[32m2025-09-24 23:20:41.657\u001b[0m | \u001b[32m\u001b[1mSUCCESS \u001b[0m | \u001b[36mOSCordon.os_object\u001b[0m:\u001b[36m_create_proximity_full_route\u001b[0m:\u001b[36m491\u001b[0m - \u001b[32m\u001b[1mCreated route GeoDataFrame with 3 USRNs\u001b[0m\n",
      "\u001b[32m2025-09-24 23:20:41.657\u001b[0m | \u001b[34m\u001b[1mDEBUG   \u001b[0m | \u001b[36mOSCordon.os_object\u001b[0m:\u001b[36m_create_proximity_full_route\u001b[0m:\u001b[36m492\u001b[0m - \u001b[34m\u001b[1m     type      usrn street_name  route_order geometry_type  \\\n",
      "0    usrn  23001950        None            0          line   \n",
      "1  buffer  23001950        None            0       polygon   \n",
      "2    usrn  23032833        None            1          line   \n",
      "3  buffer  23032833        None            1       polygon   \n",
      "4    usrn  23013026        None            2          line   \n",
      "5  buffer  23013026        None            2       polygon   \n",
      "\n",
      "                                            geometry  \n",
      "0  MULTILINESTRING ((-1.63129 53.81338, -1.63114 ...  \n",
      "1  POLYGON ((-1.63153 53.81367, -1.63152 53.81368...  \n",
      "2  MULTILINESTRING ((-1.63289 53.81484, -1.63309 ...  \n",
      "3  POLYGON ((-1.63342 53.81438, -1.63344 53.81443...  \n",
      "4  MULTILINESTRING ((-1.62374 53.81498, -1.62315 ...  \n",
      "5  POLYGON ((-1.62334 53.8152, -1.62332 53.81525,...  \u001b[0m\n"
     ]
    },
    {
     "name": "stdout",
     "output_type": "stream",
     "text": [
      "Individual buffers - Roads: 3, Buffers: 3\n"
     ]
    },
    {
     "data": {
      "application/vnd.jupyter.widget-view+json": {
       "model_id": "19ae87252f874d818dcbe92b0e91c79f",
       "version_major": 2,
       "version_minor": 1
      },
      "text/plain": [
       "Map(custom_attribution='', layers=(PathLayer(get_color=[0, 0, 255], table=arro3.core.Table\n",
       "+------+----------+…"
      ]
     },
     "execution_count": 7,
     "metadata": {},
     "output_type": "execute_result"
    }
   ],
   "source": [
    "usrn_list = [\"23001950\", \"23032833\", \"23013026\"]\n",
    "\n",
    "config = {\n",
    "    \"cap_style\": \"round\",\n",
    "    \"join_style\": \"round\",\n",
    "    \"resolution\": 16,\n",
    "}\n",
    "\n",
    "# Get individual buffers for each street (return_geometry=True)\n",
    "gdf_detailed = os_obj.create_proximity(\n",
    "    usrn_list, buffer_distance=30, buffer_config=config, return_geometry=True\n",
    ")\n",
    "\n",
    "# Split into layers for detailed view\n",
    "roads_detailed = gdf_detailed[gdf_detailed[\"type\"] == \"usrn\"]\n",
    "individual_buffers = gdf_detailed[gdf_detailed[\"type\"] == \"buffer\"]\n",
    "\n",
    "print(\n",
    "    f\"Individual buffers - Roads: {len(roads_detailed)}, Buffers: {len(individual_buffers)}\"\n",
    ")\n",
    "\n",
    "# Create map with individual buffers\n",
    "road_layer = PathLayer.from_geopandas(\n",
    "    roads_detailed,\n",
    "    get_color=[0, 0, 255],\n",
    "    width_min_pixels=3,\n",
    ")\n",
    "\n",
    "buffer_layer = PolygonLayer.from_geopandas(\n",
    "    individual_buffers,\n",
    "    get_fill_color=[255, 165, 0, 80],\n",
    "    get_line_color=[255, 165, 0],\n",
    "    line_width_min_pixels=2,\n",
    ")\n",
    "\n",
    "# Display map with roads and individual buffers\n",
    "m = Map(layers=[road_layer, buffer_layer])\n",
    "m"
   ]
  }
 ],
 "metadata": {
  "kernelspec": {
   "display_name": "os-cordon",
   "language": "python",
   "name": "python3"
  },
  "language_info": {
   "codemirror_mode": {
    "name": "ipython",
    "version": 3
   },
   "file_extension": ".py",
   "mimetype": "text/x-python",
   "name": "python",
   "nbconvert_exporter": "python",
   "pygments_lexer": "ipython3",
   "version": "3.11.9"
  }
 },
 "nbformat": 4,
 "nbformat_minor": 5
}
